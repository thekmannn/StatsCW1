{
 "cells": [
  {
   "cell_type": "markdown",
   "metadata": {},
   "source": [
    "<span style=\"font-size: 23px;\">Question 1</span>: <br>\n",
    "(2 mark) Implement the counting measure in Python. Test that it satisfies additivity on the disjoint sets\n",
    "{\"a\", \"b\", \"c\"}, {\"d\", \"e\", \"f\"}.\n",
    "Hint: If you have never written a Python function, read https://www.w3schools.com/python/python_\n",
    "functions.asp, if you have never used Python sets, read https://www.w3schools.com/python/python_\n",
    "sets.asp.\n",
    "Bonus mark if your implementation of the counting measure checks that the input type is correct and\n",
    "raises an error otherwise. <br>\n",
    "<span style=\"font-size: 23px;\">Answer 1</span>:\n"
   ]
  },
  {
   "cell_type": "code",
   "execution_count": 16,
   "metadata": {},
   "outputs": [],
   "source": [
    "def counting_measure(set):\n",
    "    try:\n",
    "        if type(set) != type({1, 2}): #creating new exception\n",
    "            raise Exception(f\"IncorrctInput: Please enter a set. \\n{str(type(set))[8:-2].capitalize()} type is not a valid input for this operation.\")\n",
    "        count = len(set)\n",
    "        return count\n",
    "    except Exception as e: \n",
    "        return f\"Following error occured: \\n{e}\\n\""
   ]
  },
  {
   "cell_type": "code",
   "execution_count": 17,
   "metadata": {},
   "outputs": [
    {
     "name": "stdout",
     "output_type": "stream",
     "text": [
      "the counting measure for myset is:\n",
      "8\n",
      "\n",
      "\n",
      "Following error occured: \n",
      "IncorrctInput: Please enter a set. \n",
      "List type is not a valid input for this operation.\n",
      "\n",
      "Following error occured: \n",
      "IncorrctInput: Please enter a set. \n",
      "Int type is not a valid input for this operation.\n",
      "\n"
     ]
    }
   ],
   "source": [
    "myset = {1, 2, 3, 5, 6, 6, 6, 6, 6, 9, 3, 0, 33, 3, 3, 5}\n",
    "mylist = [1, 3, 5, 6, 3]  #creating a list to test if my function throws an error\n",
    "\n",
    "print(\"the counting measure for myset is:\")\n",
    "print(counting_measure(myset)) #returns the value for counting measure\n",
    "print(\"\\n\")\n",
    "\n",
    "print(counting_measure(mylist)) #will check the type of the input and return an error\n",
    "print(counting_measure(1)) #will check the type of the input and return an error"
   ]
  },
  {
   "cell_type": "code",
   "execution_count": 18,
   "metadata": {},
   "outputs": [
    {
     "name": "stdout",
     "output_type": "stream",
     "text": [
      "Additivity successfully test! For two disjoint sets, set1 and set2: \n",
      "counting_measure(set1) + counting_measure(set2) = counting_measure(set1 U set 2)\n"
     ]
    }
   ],
   "source": [
    "set1 = {\"a\", \"b\", \"c\"}\n",
    "set2 = {\"d\", \"e\", \"f\"}\n",
    "set3 = {\"a\", \"b\", \"e\"} #dummy set to test if my code works properly for sets that are not disjoint\n",
    "\n",
    "try:\n",
    "    for i in set1:\n",
    "        if i in set2:\n",
    "            raise Exception(\"The given sets are not disjoint sets and hence can not be tested for the additivity rule.\")\n",
    "except Exception as e: \n",
    "    print(f\"Following error occured: \\n{e}\")\n",
    "else:\n",
    "    if counting_measure(set1) + counting_measure(set2) == counting_measure(set1.union(set2)):\n",
    "        print(f\"Additivity successfully test! For two disjoint sets, set1 and set2: \\ncounting_measure(set1) + counting_measure(set2) = counting_measure(set1 U set 2)\")"
   ]
  },
  {
   "cell_type": "markdown",
   "metadata": {},
   "source": [
    "<span style=\"font-size: 23px;\">Question 2</span>: <br>\n",
    "(2 marks) Create a Python class which implements intervals. Use this new data type to write a function\n",
    "which implements the length measure on intervals. Test it on the interval [1, 3:5].\n",
    "Hint: If you have never written a Python class, read https://www.w3schools.com/python/python_\n",
    "classes.asp.\n",
    "Bonus mark if your implementation of the length measure checks that the input type is correct and raises\n",
    "an error otherwise. <br>\n",
    "<span style=\"font-size: 23px;\">Answer 2</span>:\n"
   ]
  },
  {
   "cell_type": "code",
   "execution_count": 19,
   "metadata": {},
   "outputs": [],
   "source": [
    "class Interval():\n",
    "    \n",
    "    def __init__(self, interval):\n",
    "        try:\n",
    "            if type(interval) != type([1, 2]):\n",
    "                raise Exception(f\"IncorrectInput: Please enter the interval in a valid format! \\nFor your refrence, enter it as so: [a, b]\\na: the point where your interval starts\\nb: the point where your interval ends\")\n",
    "            if len(interval) != 2:\n",
    "                raise Exception(f\"IncorrectInput: Please enter a valid interval! \\nThe interval will only have two inputs: [a, b] \\na: the starting point \\nb: the ending point \\nyou entered {len(interval)} inputs\")\n",
    "            if interval[0] > interval[1]:\n",
    "                raise Exception(f\"IncorrectOrder: Please enter the interval in the right format! For your refrence: [a, b] \\na will always be smaller than b as it is the starting point\")\n",
    "        except Exception as e:\n",
    "            print(f\"Following error occured: \\n{e}\\n\")\n",
    "        else:\n",
    "            self.a = interval[0]\n",
    "            self.b = interval[1]"
   ]
  },
  {
   "cell_type": "code",
   "execution_count": 20,
   "metadata": {},
   "outputs": [
    {
     "name": "stdout",
     "output_type": "stream",
     "text": [
      "Following error occured: \n",
      "IncorrectInput: Please enter the interval in a valid format! \n",
      "For your refrence, enter it as so: [a, b]\n",
      "a: the point where your interval starts\n",
      "b: the point where your interval ends\n",
      "\n"
     ]
    }
   ],
   "source": [
    "interval1 = Interval([1, 3.5])\n",
    "interval2 = Interval({1, 3.5}) #this will throw an error as the input type is incorrect"
   ]
  },
  {
   "cell_type": "code",
   "execution_count": 21,
   "metadata": {},
   "outputs": [],
   "source": [
    "def interval_len(interval): \n",
    "    try:\n",
    "        if type(interval) != type(Interval([1, 3])):\n",
    "            raise Exception(f\"IncorrectInput: This function only takes an interval as an input! \\nYou entered: {str(type(interval))[8:-2].capitalize()}\")\n",
    "    except Exception as e: \n",
    "        return f\"Following error occured: \\n{e}\\n\"\n",
    "    else:\n",
    "        length = interval.b - interval.a\n",
    "        return length"
   ]
  },
  {
   "cell_type": "code",
   "execution_count": 22,
   "metadata": {},
   "outputs": [
    {
     "name": "stdout",
     "output_type": "stream",
     "text": [
      "the length of given interval is:\n",
      "2.5\n",
      "\n",
      "\n",
      "Following error occured: \n",
      "IncorrectInput: This function only takes an interval as an input! \n",
      "You entered: Set\n",
      "\n",
      "Following error occured: \n",
      "IncorrectInput: This function only takes an interval as an input! \n",
      "You entered: Int\n",
      "\n"
     ]
    }
   ],
   "source": [
    "print(f\"the length of given interval is:\")\n",
    "print(interval_len(interval1)) \n",
    "print(\"\\n\")\n",
    "print(interval_len({1, 3.5})) #this will check if the input of type interval that i created and throw an error\n",
    "print(interval_len(1)) #this will check if the input of type interval that i created and throw an error"
   ]
  },
  {
   "cell_type": "markdown",
   "metadata": {},
   "source": [
    "<span style=\"font-size: 23px;\">Question 3</span>: <br>\n",
    "(3 marks) Import scipy.stats in order to access the scipy.stats.expon distribution. This implements\n",
    "the exponential distribution Exp($\\lambda$). Make sure you read the documentation https://docs.scipy.org/doc/scipy/reference/generated/scipy.stats.expon.html to understand how it works and how\n",
    "the parameter $\\lambda$ is encoded. Using the cdf method of scipy.stats.expon define a function called\n",
    "expon_measure which will take as input an interval (defined in the previous question) and will return\n",
    "its probability mass under the probability measure Exp (2) (i.e. $\\lambda$ = 2). Test your function by computing\n",
    "the probability measure of the following intervals: <br>\n",
    "(a) [0; 1] <br>\n",
    "(b) [1; 1] <br>\n",
    "(c) [1; 10] <br>\n",
    "(d) [0;1) <br>\n",
    "Plot the pdf of Exp (2) on comment on whether your answers seem to make sense visually. <br>\n",
    "<span style=\"font-size: 23px;\">Answer 3</span>:\n"
   ]
  },
  {
   "cell_type": "code",
   "execution_count": 23,
   "metadata": {},
   "outputs": [],
   "source": [
    "# !pip install scipy #installing scipy"
   ]
  },
  {
   "cell_type": "code",
   "execution_count": 24,
   "metadata": {},
   "outputs": [],
   "source": [
    "#importing all the necessary libraries\n",
    "\n",
    "from scipy.stats import expon\n",
    "import numpy as np\n",
    "from scipy.integrate import quad\n",
    "import matplotlib.pyplot as plt"
   ]
  },
  {
   "cell_type": "code",
   "execution_count": 25,
   "metadata": {},
   "outputs": [],
   "source": [
    "def expon_measure(interval): \n",
    "    try:\n",
    "        if type(interval) != type(Interval([1, 3])): #random interval to test the type of input\n",
    "            raise Exception(f\"IncorrectInput: This function only takes an interval as an input! \\nYou entered: {str(type(interval))[8:-2].capitalize()}\")\n",
    "        pass \n",
    "    except Exception as e:\n",
    "        return f\"Following error occured: \\n{e}\\n\"\n",
    "    else:\n",
    "        prob = expon.cdf(x = interval.b, loc = 0, scale = 1/2) - expon.cdf(x = interval.a, loc = 0, scale = 1/2) #calulating probability mass\n",
    "        return prob"
   ]
  },
  {
   "cell_type": "code",
   "execution_count": 26,
   "metadata": {},
   "outputs": [],
   "source": [
    "interval_1 = Interval([0, 1])\n",
    "interval_2 = Interval([1, 1])\n",
    "interval_3 = Interval([1, 10])\n",
    "interval_4 = Interval([0, float('inf')])"
   ]
  },
  {
   "cell_type": "code",
   "execution_count": 27,
   "metadata": {},
   "outputs": [
    {
     "name": "stdout",
     "output_type": "stream",
     "text": [
      "1) the probability density for exponential distribution with mean = 2 or rate parameter = 0.5 in the area between x = 0 and x = 1 is:\n",
      "0.8646647167633873\n",
      "\n",
      "\n",
      "2) the probability density for exponential distribution with mean = 2 or rate parameter = 0.5 in the area between x = 1 and x = 1 is:\n",
      "0.0\n",
      "\n",
      "\n",
      "3) the probability density for exponential distribution with mean = 2 or rate parameter = 0.5 in the area between x = 1 and x = 10 is:\n",
      "0.13533528117545912\n",
      "\n",
      "\n",
      "4) the probability density for exponential distribution with mean = 2 or rate parameter = 0.5 in the area between x = 0 and x = inf is:\n",
      "1.0\n",
      "\n",
      "\n"
     ]
    }
   ],
   "source": [
    "interval_list = [interval_1, interval_2, interval_3, interval_4]   #simplifying the code for my ease and to make the output look more presentable\n",
    "for num, i in enumerate(interval_list):\n",
    "    print(f\"{num+1}) the probability density for exponential distribution with mean = 2 or rate parameter = 0.5 in the area between x = {i.a} and x = {i.b} is:\")\n",
    "    print(expon_measure(i))\n",
    "    print(\"\\n\")"
   ]
  },
  {
   "cell_type": "code",
   "execution_count": 28,
   "metadata": {},
   "outputs": [
    {
     "data": {
      "image/png": "[encoded data removed]",
      "text/plain": [
       "<Figure size 1300x700 with 4 Axes>"
      ]
     },
     "metadata": {},
     "output_type": "display_data"
    }
   ],
   "source": [
    "#plotting the above densities on the pdf of exponential distribution\n",
    "var = np.linspace(0, 11, 10000)\n",
    "fig, ax = plt.subplots(2, 2, figsize = (13, 7))\n",
    "\n",
    "ax[0, 0].plot(var, expon.pdf(var, loc = 0, scale = 1/2)) #plotting the area between x = 0 and x = 1 to justify the density output\n",
    "area1 = np.arange(0, 1, 1/20)\n",
    "ax[0, 0].fill_between(area1, expon.pdf(area1, loc = 0, scale = 1/2))\n",
    "ax[0, 0].title.set_text(\"Figure 1: Area between x = 0 and x = 1\")\n",
    "\n",
    "ax[0, 1].plot(var, expon.pdf(var, loc = 0, scale = 1/2)) #plotting the area between x = 1 and x = 1 to justify the density output\n",
    "area2 = np.arange(1, 1, 1/20)\n",
    "ax[0, 1].fill_between(area2, expon.pdf(area2, loc = 0, scale = 1/2))\n",
    "ax[0, 1].title.set_text(\"Figure 2: Area between x = 1 and x = 1\")\n",
    "\n",
    "ax[1, 0].plot(var, expon.pdf(var, loc = 0, scale = 1/2)) #plotting the area between x = 1 and x = 10 to justify the density output\n",
    "area3 = np.arange(1, 10, 1/20)\n",
    "ax[1, 0].fill_between(area3, expon.pdf(area3, loc = 0, scale = 1/2))\n",
    "ax[1, 0].title.set_text(\"Figure 3: Area between x = 1 and x = 10\")\n",
    "\n",
    "ax[1, 1].plot(var, expon.pdf(var, loc = 0, scale = 1/2)) #plotting the area between x = 0 and x = inf to justify the density output\n",
    "area4 = np.arange(0, 5, 1/20)\n",
    "ax[1, 1].fill_between(area4, expon.pdf(area4, loc = 0, scale = 1/2))    \n",
    "ax[1, 1].title.set_text(\"Figure 4: Area between x = 0 and x = inf\")\n",
    "\n",
    "plt.show()"
   ]
  },
  {
   "cell_type": "markdown",
   "metadata": {},
   "source": [
    "The plots I see for pdf of our exponential distribution alligns with our density outputs. The graphs above show that since the mean of this exponential distribution is 2, there's a high chance of the event occuring before 2 unit time and therefore the area between 0 and 2 takes up most of the space. <br>\n",
    "\n",
    "1\\) The chances of the event happening between 0 unit time and 1 unit time came out to be 0.86466 and it can be validated from the figure 1. We can intuitively say that the area of the highlighted region is indeed approximately 86% of the total. <br>\n",
    "\n",
    "2\\) The chances of the event happening between 1 unit time and 1 unit time came out to be 0 and it can be validated from the figure 2. We can intuitively say that the area of the highlighted region is indeed 0% of the total. <br>\n",
    "\n",
    "3\\) The chances of the event happening between 1 unit time and 10 unit time came out to be 0.13534 and it can be validated from the figure 3. We can intuitively say that the area of the highlighted region is indeed approximately 14% of the total. <br>\n",
    "\n",
    "4\\) The chances of the event happening between 0 unit time and infinity unit time came out to be 1 and it can be validated from the figure 4. We can intuitively say that the area of the highlighted region is indeed 100% of the total. <br>"
   ]
  },
  {
   "cell_type": "markdown",
   "metadata": {},
   "source": [
    "<span style=\"font-size: 23px;\">Question 4</span>: <br>\n",
    "(3 marks) Using the pdf method of scipy.stats.expon, define a function called expon_pdf which will\n",
    "take one argument x and return the pdf of the probability measure Exp (2) evaluated at x. Import\n",
    "the integration routine quad from scipy.integrate, and read the documentation https://docs.scipy.org/doc/scipy/reference/generated/scipy.integrate.quad.html to see how it works. Use quad to\n",
    "compute and print the given integrals. <br>\n",
    "<span style=\"font-size: 23px;\">Answer 4</span>:"
   ]
  },
  {
   "cell_type": "code",
   "execution_count": 29,
   "metadata": {},
   "outputs": [],
   "source": [
    "expon_pdf = lambda x: expon.pdf(x, loc = 0, scale = 1/2) #function that will return the pdf of an exponential distribution with mean = 2 and rate parameter = 0.5 for any given x"
   ]
  },
  {
   "cell_type": "code",
   "execution_count": 30,
   "metadata": {},
   "outputs": [
    {
     "name": "stdout",
     "output_type": "stream",
     "text": [
      "1) the probability density for exponential distribution with mean = 2 or rate parameter = 0.5 in the area between x = 0 and x = 1 is:\n",
      "0.8646647167633872\n",
      "\n",
      "\n",
      "2) the probability density for exponential distribution with mean = 2 or rate parameter = 0.5 in the area between x = 1 and x = 1 is:\n",
      "0.0\n",
      "\n",
      "\n",
      "3) the probability density for exponential distribution with mean = 2 or rate parameter = 0.5 in the area between x = 1 and x = 10 is:\n",
      "0.13533528117545912\n",
      "\n",
      "\n",
      "4) the probability density for exponential distribution with mean = 2 or rate parameter = 0.5 in the area between x = 0 and x = inf is:\n",
      "1.0\n",
      "\n",
      "\n"
     ]
    }
   ],
   "source": [
    "for num, i in enumerate(interval_list): #simplifying the code for my ease and to make the output look more presentable\n",
    "    print(f\"{num+1}) the probability density for exponential distribution with mean = 2 or rate parameter = 0.5 in the area between x = {i.a} and x = {i.b} is:\")\n",
    "    print(quad(expon_pdf, i.a, i.b)[0])\n",
    "    print(\"\\n\")"
   ]
  },
  {
   "cell_type": "markdown",
   "metadata": {},
   "source": [
    "To answer the question if I notice anything, the answers from the previous question and the answers from this question are the same essentially because cumulative density function is nothing but the intergral of the pdf of a distribution starting from negative infinity, which in the case of exponential distribution is 0 or zero, up to the given point. In question 3, we found the difference between the cdf of two numbers to arrive at the density in the given area. In question 4, we directly calculated the integral of the pdf in the given region and that's the reason why the answers in question 3 and question 4 are exactly the same. They are just two differnt approaches of calculating the given area. \n",
    "\n",
    "To make it simple:\n",
    "\n",
    "cdf(b) - cdf(a) == density of the area between x = a and x = b <br>\n",
    "\n",
    "and <br>\n",
    "\n",
    "density of the area between x = a and x = b == $\\int_{a}^{b} pdf dx$\n",
    "\n",
    "NOTE: The last answer is 0.99999999999, that is, it tends to 1 as there no denfinite point that marks the end of the distibution.\n"
   ]
  },
  {
   "cell_type": "code",
   "execution_count": 1,
   "metadata": {},
   "outputs": [
    {
     "name": "stdout",
     "output_type": "stream",
     "text": [
      "Just checking how git commit works.\n"
     ]
    }
   ],
   "source": [
    "print(\"Just checking how git commit works.\")"
   ]
  }
 ],
 "metadata": {
  "kernelspec": {
   "display_name": "Python 3",
   "language": "python",
   "name": "python3"
  },
  "language_info": {
   "codemirror_mode": {
    "name": "ipython",
    "version": 3
   },
   "file_extension": ".py",
   "mimetype": "text/x-python",
   "name": "python",
   "nbconvert_exporter": "python",
   "pygments_lexer": "ipython3",
   "version": "3.12.5"
  }
 },
 "nbformat": 4,
 "nbformat_minor": 2
}
